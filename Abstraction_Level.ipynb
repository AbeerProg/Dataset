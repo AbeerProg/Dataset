{
  "nbformat": 4,
  "nbformat_minor": 0,
  "metadata": {
    "colab": {
      "provenance": [],
      "authorship_tag": "ABX9TyMjdeouLSV2fbY6okbh85m0",
      "include_colab_link": true
    },
    "kernelspec": {
      "name": "python3",
      "display_name": "Python 3"
    },
    "language_info": {
      "name": "python"
    }
  },
  "cells": [
    {
      "cell_type": "markdown",
      "metadata": {
        "id": "view-in-github",
        "colab_type": "text"
      },
      "source": [
        "<a href=\"https://colab.research.google.com/github/AbeerProg/AbeerPhd/blob/main/Abstraction_Level.ipynb\" target=\"_parent\"><img src=\"https://colab.research.google.com/assets/colab-badge.svg\" alt=\"Open In Colab\"/></a>"
      ]
    },
    {
      "cell_type": "code",
      "execution_count": 1,
      "metadata": {
        "id": "Zb0YqzMrIa8J"
      },
      "outputs": [],
      "source": [
        "import nltk\n",
        "from nltk import pos_tag\n",
        "from nltk.corpus import wordnet\n"
      ]
    },
    {
      "cell_type": "code",
      "source": [
        "import pandas as pd\n",
        "df = pd.read_excel('textonly.xlsx')"
      ],
      "metadata": {
        "id": "Fi32yJxyKM4p"
      },
      "execution_count": 2,
      "outputs": []
    },
    {
      "cell_type": "code",
      "source": [
        "nltk.download('punkt')\n",
        "nltk.download('averaged_perceptron_tagger')\n",
        "nltk.download('wordnet')\n"
      ],
      "metadata": {
        "colab": {
          "base_uri": "https://localhost:8080/"
        },
        "id": "qc8FBS4qKqlW",
        "outputId": "cab8ef87-5961-495b-e7dd-335e27261f9e"
      },
      "execution_count": 3,
      "outputs": [
        {
          "output_type": "stream",
          "name": "stderr",
          "text": [
            "[nltk_data] Downloading package punkt to /root/nltk_data...\n",
            "[nltk_data]   Unzipping tokenizers/punkt.zip.\n",
            "[nltk_data] Downloading package averaged_perceptron_tagger to\n",
            "[nltk_data]     /root/nltk_data...\n",
            "[nltk_data]   Unzipping taggers/averaged_perceptron_tagger.zip.\n",
            "[nltk_data] Downloading package wordnet to /root/nltk_data...\n"
          ]
        },
        {
          "output_type": "execute_result",
          "data": {
            "text/plain": [
              "True"
            ]
          },
          "metadata": {},
          "execution_count": 3
        }
      ]
    },
    {
      "cell_type": "code",
      "source": [
        "def calculate_abstraction(text):\n",
        "    words = nltk.word_tokenize(text)\n",
        "    pos_tags = pos_tag(words)\n",
        "    lemmatized_verbs = set()\n",
        "\n",
        "    for word, tag in pos_tags:\n",
        "        if tag.startswith('VB'):\n",
        "            lemma = wordnet.morphy(word, wordnet.VERB)\n",
        "            if lemma:\n",
        "                lemmatized_verbs.add(lemma.lower())\n",
        "\n",
        "    if len(words) == 0:\n",
        "        return 0.0\n",
        "    else:\n",
        "        abstraction_ratio = len(lemmatized_verbs) / len(words)\n",
        "        return abstraction_ratio\n"
      ],
      "metadata": {
        "id": "ghyI3ymnKwVK"
      },
      "execution_count": 4,
      "outputs": []
    },
    {
      "cell_type": "code",
      "source": [
        "df['Abstraction_Level'] = df['text'].apply(calculate_abstraction)\n"
      ],
      "metadata": {
        "id": "h0j8a0G6KyCA"
      },
      "execution_count": 5,
      "outputs": []
    },
    {
      "cell_type": "code",
      "source": [
        "print(df[['text', 'Abstraction_Level']])\n"
      ],
      "metadata": {
        "colab": {
          "base_uri": "https://localhost:8080/"
        },
        "id": "zB2gAq5GK55E",
        "outputId": "262b1078-dd64-43a6-b3fb-3c0df8f29437"
      },
      "execution_count": 6,
      "outputs": [
        {
          "output_type": "stream",
          "name": "stdout",
          "text": [
            "                                                   text  Abstraction_Level\n",
            "0     Some of the best food I've ever had! We were r...           0.142857\n",
            "1     Loved it the food was great. Can’t wait to go ...           0.133333\n",
            "2     Amazing food and staff was great! Can’t wait t...           0.133333\n",
            "3     This place is the sleeper hit of Wise County. ...           0.060606\n",
            "4                                    Food was wonderful           0.333333\n",
            "...                                                 ...                ...\n",
            "9066                               Best burgers around!           0.000000\n",
            "9067                                            Awesome           0.000000\n",
            "9068       Great place to eat friendly and great people           0.125000\n",
            "9069                                   Amazing Burgers!           0.000000\n",
            "9070                                   Best fries EVER.           0.000000\n",
            "\n",
            "[9071 rows x 2 columns]\n"
          ]
        }
      ]
    },
    {
      "cell_type": "code",
      "source": [
        "# Save the DataFrame to an Excel file\n",
        "df.to_excel('output_with_abstraction.xlsx', index=False)\n"
      ],
      "metadata": {
        "id": "-U5ekDwYLLpF"
      },
      "execution_count": 7,
      "outputs": []
    }
  ]
}