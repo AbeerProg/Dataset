{
  "cells": [
    {
      "cell_type": "markdown",
      "metadata": {
        "id": "view-in-github",
        "colab_type": "text"
      },
      "source": [
        "<a href=\"https://colab.research.google.com/github/AbeerProg/AbeerPhd/blob/main/DatasetPreparation.ipynb\" target=\"_parent\"><img src=\"https://colab.research.google.com/assets/colab-badge.svg\" alt=\"Open In Colab\"/></a>"
      ]
    },
    {
      "cell_type": "code",
      "execution_count": null,
      "metadata": {
        "colab": {
          "base_uri": "https://localhost:8080/"
        },
        "id": "k4pq2rSywoV2",
        "outputId": "21f7cb7b-9e5c-47c1-a87c-a8fa9f930dbf"
      },
      "outputs": [
        {
          "output_type": "stream",
          "name": "stdout",
          "text": [
            "Requirement already satisfied: pandas in /usr/local/lib/python3.10/dist-packages (1.5.3)\n",
            "Requirement already satisfied: python-dateutil>=2.8.1 in /usr/local/lib/python3.10/dist-packages (from pandas) (2.8.2)\n",
            "Requirement already satisfied: pytz>=2020.1 in /usr/local/lib/python3.10/dist-packages (from pandas) (2023.3.post1)\n",
            "Requirement already satisfied: numpy>=1.21.0 in /usr/local/lib/python3.10/dist-packages (from pandas) (1.23.5)\n",
            "Requirement already satisfied: six>=1.5 in /usr/local/lib/python3.10/dist-packages (from python-dateutil>=2.8.1->pandas) (1.16.0)\n"
          ]
        }
      ],
      "source": [
        "!pip install pandas"
      ]
    },
    {
      "cell_type": "code",
      "execution_count": null,
      "metadata": {
        "colab": {
          "base_uri": "https://localhost:8080/",
          "height": 71
        },
        "id": "aJNq1TDmwyCh",
        "outputId": "59a8c35b-4546-46d9-a3da-a1216ebd22d0"
      },
      "outputs": [
        {
          "output_type": "display_data",
          "data": {
            "text/plain": [
              "<IPython.core.display.HTML object>"
            ],
            "text/html": [
              "\n",
              "     <input type=\"file\" id=\"files-2fa6d729-bb34-4830-b167-9b303253b437\" name=\"files[]\" multiple disabled\n",
              "        style=\"border:none\" />\n",
              "     <output id=\"result-2fa6d729-bb34-4830-b167-9b303253b437\">\n",
              "      Upload widget is only available when the cell has been executed in the\n",
              "      current browser session. Please rerun this cell to enable.\n",
              "      </output>\n",
              "      <script>// Copyright 2017 Google LLC\n",
              "//\n",
              "// Licensed under the Apache License, Version 2.0 (the \"License\");\n",
              "// you may not use this file except in compliance with the License.\n",
              "// You may obtain a copy of the License at\n",
              "//\n",
              "//      http://www.apache.org/licenses/LICENSE-2.0\n",
              "//\n",
              "// Unless required by applicable law or agreed to in writing, software\n",
              "// distributed under the License is distributed on an \"AS IS\" BASIS,\n",
              "// WITHOUT WARRANTIES OR CONDITIONS OF ANY KIND, either express or implied.\n",
              "// See the License for the specific language governing permissions and\n",
              "// limitations under the License.\n",
              "\n",
              "/**\n",
              " * @fileoverview Helpers for google.colab Python module.\n",
              " */\n",
              "(function(scope) {\n",
              "function span(text, styleAttributes = {}) {\n",
              "  const element = document.createElement('span');\n",
              "  element.textContent = text;\n",
              "  for (const key of Object.keys(styleAttributes)) {\n",
              "    element.style[key] = styleAttributes[key];\n",
              "  }\n",
              "  return element;\n",
              "}\n",
              "\n",
              "// Max number of bytes which will be uploaded at a time.\n",
              "const MAX_PAYLOAD_SIZE = 100 * 1024;\n",
              "\n",
              "function _uploadFiles(inputId, outputId) {\n",
              "  const steps = uploadFilesStep(inputId, outputId);\n",
              "  const outputElement = document.getElementById(outputId);\n",
              "  // Cache steps on the outputElement to make it available for the next call\n",
              "  // to uploadFilesContinue from Python.\n",
              "  outputElement.steps = steps;\n",
              "\n",
              "  return _uploadFilesContinue(outputId);\n",
              "}\n",
              "\n",
              "// This is roughly an async generator (not supported in the browser yet),\n",
              "// where there are multiple asynchronous steps and the Python side is going\n",
              "// to poll for completion of each step.\n",
              "// This uses a Promise to block the python side on completion of each step,\n",
              "// then passes the result of the previous step as the input to the next step.\n",
              "function _uploadFilesContinue(outputId) {\n",
              "  const outputElement = document.getElementById(outputId);\n",
              "  const steps = outputElement.steps;\n",
              "\n",
              "  const next = steps.next(outputElement.lastPromiseValue);\n",
              "  return Promise.resolve(next.value.promise).then((value) => {\n",
              "    // Cache the last promise value to make it available to the next\n",
              "    // step of the generator.\n",
              "    outputElement.lastPromiseValue = value;\n",
              "    return next.value.response;\n",
              "  });\n",
              "}\n",
              "\n",
              "/**\n",
              " * Generator function which is called between each async step of the upload\n",
              " * process.\n",
              " * @param {string} inputId Element ID of the input file picker element.\n",
              " * @param {string} outputId Element ID of the output display.\n",
              " * @return {!Iterable<!Object>} Iterable of next steps.\n",
              " */\n",
              "function* uploadFilesStep(inputId, outputId) {\n",
              "  const inputElement = document.getElementById(inputId);\n",
              "  inputElement.disabled = false;\n",
              "\n",
              "  const outputElement = document.getElementById(outputId);\n",
              "  outputElement.innerHTML = '';\n",
              "\n",
              "  const pickedPromise = new Promise((resolve) => {\n",
              "    inputElement.addEventListener('change', (e) => {\n",
              "      resolve(e.target.files);\n",
              "    });\n",
              "  });\n",
              "\n",
              "  const cancel = document.createElement('button');\n",
              "  inputElement.parentElement.appendChild(cancel);\n",
              "  cancel.textContent = 'Cancel upload';\n",
              "  const cancelPromise = new Promise((resolve) => {\n",
              "    cancel.onclick = () => {\n",
              "      resolve(null);\n",
              "    };\n",
              "  });\n",
              "\n",
              "  // Wait for the user to pick the files.\n",
              "  const files = yield {\n",
              "    promise: Promise.race([pickedPromise, cancelPromise]),\n",
              "    response: {\n",
              "      action: 'starting',\n",
              "    }\n",
              "  };\n",
              "\n",
              "  cancel.remove();\n",
              "\n",
              "  // Disable the input element since further picks are not allowed.\n",
              "  inputElement.disabled = true;\n",
              "\n",
              "  if (!files) {\n",
              "    return {\n",
              "      response: {\n",
              "        action: 'complete',\n",
              "      }\n",
              "    };\n",
              "  }\n",
              "\n",
              "  for (const file of files) {\n",
              "    const li = document.createElement('li');\n",
              "    li.append(span(file.name, {fontWeight: 'bold'}));\n",
              "    li.append(span(\n",
              "        `(${file.type || 'n/a'}) - ${file.size} bytes, ` +\n",
              "        `last modified: ${\n",
              "            file.lastModifiedDate ? file.lastModifiedDate.toLocaleDateString() :\n",
              "                                    'n/a'} - `));\n",
              "    const percent = span('0% done');\n",
              "    li.appendChild(percent);\n",
              "\n",
              "    outputElement.appendChild(li);\n",
              "\n",
              "    const fileDataPromise = new Promise((resolve) => {\n",
              "      const reader = new FileReader();\n",
              "      reader.onload = (e) => {\n",
              "        resolve(e.target.result);\n",
              "      };\n",
              "      reader.readAsArrayBuffer(file);\n",
              "    });\n",
              "    // Wait for the data to be ready.\n",
              "    let fileData = yield {\n",
              "      promise: fileDataPromise,\n",
              "      response: {\n",
              "        action: 'continue',\n",
              "      }\n",
              "    };\n",
              "\n",
              "    // Use a chunked sending to avoid message size limits. See b/62115660.\n",
              "    let position = 0;\n",
              "    do {\n",
              "      const length = Math.min(fileData.byteLength - position, MAX_PAYLOAD_SIZE);\n",
              "      const chunk = new Uint8Array(fileData, position, length);\n",
              "      position += length;\n",
              "\n",
              "      const base64 = btoa(String.fromCharCode.apply(null, chunk));\n",
              "      yield {\n",
              "        response: {\n",
              "          action: 'append',\n",
              "          file: file.name,\n",
              "          data: base64,\n",
              "        },\n",
              "      };\n",
              "\n",
              "      let percentDone = fileData.byteLength === 0 ?\n",
              "          100 :\n",
              "          Math.round((position / fileData.byteLength) * 100);\n",
              "      percent.textContent = `${percentDone}% done`;\n",
              "\n",
              "    } while (position < fileData.byteLength);\n",
              "  }\n",
              "\n",
              "  // All done.\n",
              "  yield {\n",
              "    response: {\n",
              "      action: 'complete',\n",
              "    }\n",
              "  };\n",
              "}\n",
              "\n",
              "scope.google = scope.google || {};\n",
              "scope.google.colab = scope.google.colab || {};\n",
              "scope.google.colab._files = {\n",
              "  _uploadFiles,\n",
              "  _uploadFilesContinue,\n",
              "};\n",
              "})(self);\n",
              "</script> "
            ]
          },
          "metadata": {}
        },
        {
          "output_type": "stream",
          "name": "stdout",
          "text": [
            "Saving PunctuationLast.xlsx to PunctuationLast.xlsx\n"
          ]
        }
      ],
      "source": [
        "from google.colab import files\n",
        "# Upload the Excel file\n",
        "uploaded = files.upload()\n",
        "\n"
      ]
    },
    {
      "cell_type": "code",
      "execution_count": null,
      "metadata": {
        "colab": {
          "base_uri": "https://localhost:8080/",
          "height": 677
        },
        "id": "GoBLrbLiyl79",
        "outputId": "66b6cefc-1732-4e38-9e0c-b83a78f1f577"
      },
      "outputs": [
        {
          "output_type": "execute_result",
          "data": {
            "text/plain": [
              "                                                text         textblob  \\\n",
              "0  Some of the best food I've ever had! We were r...  Strong Positive   \n",
              "1  Loved it the food was great. Can’t wait to go ...         Positive   \n",
              "2  Amazing food and staff was great! Can’t wait t...         Positive   \n",
              "3  This place is the sleeper hit of Wise County. ...         Positive   \n",
              "4                                 Food was wonderful  Strong Positive   \n",
              "\n",
              "   imagesCount  isAdvertisement  isLocalGuide  likesCount                name  \\\n",
              "0          698            False         False           0       Hannah Thomas   \n",
              "1          698            False         False           0   Kristi B.J. Trump   \n",
              "2          698            False          True           0  B. J. Kristi Trump   \n",
              "3          698            False         False           0          Meg Wilson   \n",
              "4          698            False         False           0         Angela webb   \n",
              "\n",
              "            publishedAtDate                              reviewID  \\\n",
              "0  2023-06-15T00:28:24.174Z  ChdDSUhNMG9nS0VJQ0FnSUR4eS1DY2lRRRAB   \n",
              "1  2023-06-12T03:10:13.196Z  ChdDSUhNMG9nS0VJQ0FnSUR4LVpDb3hBRRAB   \n",
              "2  2023-06-11T20:07:43.266Z  ChdDSUhNMG9nS0VJQ0FnSUR4LVkyTzFBRRAB   \n",
              "3  2023-06-06T12:07:00.127Z   ChZDSUhNMG9nS0VJQ0FnSUR4bU1INVZBEAE   \n",
              "4  2023-06-03T02:21:13.763Z  ChdDSUhNMG9nS0VJQ0FnSUR4ak5ybjZRRRAB   \n",
              "\n",
              "    ImageCount with review             reviewerID   reviewerNumberOfReviews  \\\n",
              "0                        1  100929819046913417968                         2   \n",
              "1                        0  102165036990749226352                        22   \n",
              "2                        0  106315153446389208407                       117   \n",
              "3                        0  105443865951658816874                        13   \n",
              "4                        0  107828879031878403212                        63   \n",
              "\n",
              "   reviewsCount  sentiments_match             BERT  word_count  Unnamed: 16  \\\n",
              "0           969          0.825000  Strong Positive          18          NaN   \n",
              "1           969          0.500000         Positive          11          NaN   \n",
              "2           969          0.533333         Positive          11          NaN   \n",
              "3           969          0.302778         Positive          57          NaN   \n",
              "4           969          1.000000  Strong Positive           3          NaN   \n",
              "\n",
              "   Unnamed: 17 Unnamed: 18  Unnamed: 19  \n",
              "0          NaN         NaN          NaN  \n",
              "1          NaN         NaN          NaN  \n",
              "2          NaN         NaN          NaN  \n",
              "3          NaN         NaN          NaN  \n",
              "4          NaN         NaN          NaN  "
            ],
            "text/html": [
              "\n",
              "  <div id=\"df-f4214343-0de5-41e7-90b0-c0854d749563\" class=\"colab-df-container\">\n",
              "    <div>\n",
              "<style scoped>\n",
              "    .dataframe tbody tr th:only-of-type {\n",
              "        vertical-align: middle;\n",
              "    }\n",
              "\n",
              "    .dataframe tbody tr th {\n",
              "        vertical-align: top;\n",
              "    }\n",
              "\n",
              "    .dataframe thead th {\n",
              "        text-align: right;\n",
              "    }\n",
              "</style>\n",
              "<table border=\"1\" class=\"dataframe\">\n",
              "  <thead>\n",
              "    <tr style=\"text-align: right;\">\n",
              "      <th></th>\n",
              "      <th>text</th>\n",
              "      <th>textblob</th>\n",
              "      <th>imagesCount</th>\n",
              "      <th>isAdvertisement</th>\n",
              "      <th>isLocalGuide</th>\n",
              "      <th>likesCount</th>\n",
              "      <th>name</th>\n",
              "      <th>publishedAtDate</th>\n",
              "      <th>reviewID</th>\n",
              "      <th>ImageCount with review</th>\n",
              "      <th>reviewerID</th>\n",
              "      <th>reviewerNumberOfReviews</th>\n",
              "      <th>reviewsCount</th>\n",
              "      <th>sentiments_match</th>\n",
              "      <th>BERT</th>\n",
              "      <th>word_count</th>\n",
              "      <th>Unnamed: 16</th>\n",
              "      <th>Unnamed: 17</th>\n",
              "      <th>Unnamed: 18</th>\n",
              "      <th>Unnamed: 19</th>\n",
              "    </tr>\n",
              "  </thead>\n",
              "  <tbody>\n",
              "    <tr>\n",
              "      <th>0</th>\n",
              "      <td>Some of the best food I've ever had! We were r...</td>\n",
              "      <td>Strong Positive</td>\n",
              "      <td>698</td>\n",
              "      <td>False</td>\n",
              "      <td>False</td>\n",
              "      <td>0</td>\n",
              "      <td>Hannah Thomas</td>\n",
              "      <td>2023-06-15T00:28:24.174Z</td>\n",
              "      <td>ChdDSUhNMG9nS0VJQ0FnSUR4eS1DY2lRRRAB</td>\n",
              "      <td>1</td>\n",
              "      <td>100929819046913417968</td>\n",
              "      <td>2</td>\n",
              "      <td>969</td>\n",
              "      <td>0.825000</td>\n",
              "      <td>Strong Positive</td>\n",
              "      <td>18</td>\n",
              "      <td>NaN</td>\n",
              "      <td>NaN</td>\n",
              "      <td>NaN</td>\n",
              "      <td>NaN</td>\n",
              "    </tr>\n",
              "    <tr>\n",
              "      <th>1</th>\n",
              "      <td>Loved it the food was great. Can’t wait to go ...</td>\n",
              "      <td>Positive</td>\n",
              "      <td>698</td>\n",
              "      <td>False</td>\n",
              "      <td>False</td>\n",
              "      <td>0</td>\n",
              "      <td>Kristi B.J. Trump</td>\n",
              "      <td>2023-06-12T03:10:13.196Z</td>\n",
              "      <td>ChdDSUhNMG9nS0VJQ0FnSUR4LVpDb3hBRRAB</td>\n",
              "      <td>0</td>\n",
              "      <td>102165036990749226352</td>\n",
              "      <td>22</td>\n",
              "      <td>969</td>\n",
              "      <td>0.500000</td>\n",
              "      <td>Positive</td>\n",
              "      <td>11</td>\n",
              "      <td>NaN</td>\n",
              "      <td>NaN</td>\n",
              "      <td>NaN</td>\n",
              "      <td>NaN</td>\n",
              "    </tr>\n",
              "    <tr>\n",
              "      <th>2</th>\n",
              "      <td>Amazing food and staff was great! Can’t wait t...</td>\n",
              "      <td>Positive</td>\n",
              "      <td>698</td>\n",
              "      <td>False</td>\n",
              "      <td>True</td>\n",
              "      <td>0</td>\n",
              "      <td>B. J. Kristi Trump</td>\n",
              "      <td>2023-06-11T20:07:43.266Z</td>\n",
              "      <td>ChdDSUhNMG9nS0VJQ0FnSUR4LVkyTzFBRRAB</td>\n",
              "      <td>0</td>\n",
              "      <td>106315153446389208407</td>\n",
              "      <td>117</td>\n",
              "      <td>969</td>\n",
              "      <td>0.533333</td>\n",
              "      <td>Positive</td>\n",
              "      <td>11</td>\n",
              "      <td>NaN</td>\n",
              "      <td>NaN</td>\n",
              "      <td>NaN</td>\n",
              "      <td>NaN</td>\n",
              "    </tr>\n",
              "    <tr>\n",
              "      <th>3</th>\n",
              "      <td>This place is the sleeper hit of Wise County. ...</td>\n",
              "      <td>Positive</td>\n",
              "      <td>698</td>\n",
              "      <td>False</td>\n",
              "      <td>False</td>\n",
              "      <td>0</td>\n",
              "      <td>Meg Wilson</td>\n",
              "      <td>2023-06-06T12:07:00.127Z</td>\n",
              "      <td>ChZDSUhNMG9nS0VJQ0FnSUR4bU1INVZBEAE</td>\n",
              "      <td>0</td>\n",
              "      <td>105443865951658816874</td>\n",
              "      <td>13</td>\n",
              "      <td>969</td>\n",
              "      <td>0.302778</td>\n",
              "      <td>Positive</td>\n",
              "      <td>57</td>\n",
              "      <td>NaN</td>\n",
              "      <td>NaN</td>\n",
              "      <td>NaN</td>\n",
              "      <td>NaN</td>\n",
              "    </tr>\n",
              "    <tr>\n",
              "      <th>4</th>\n",
              "      <td>Food was wonderful</td>\n",
              "      <td>Strong Positive</td>\n",
              "      <td>698</td>\n",
              "      <td>False</td>\n",
              "      <td>False</td>\n",
              "      <td>0</td>\n",
              "      <td>Angela webb</td>\n",
              "      <td>2023-06-03T02:21:13.763Z</td>\n",
              "      <td>ChdDSUhNMG9nS0VJQ0FnSUR4ak5ybjZRRRAB</td>\n",
              "      <td>0</td>\n",
              "      <td>107828879031878403212</td>\n",
              "      <td>63</td>\n",
              "      <td>969</td>\n",
              "      <td>1.000000</td>\n",
              "      <td>Strong Positive</td>\n",
              "      <td>3</td>\n",
              "      <td>NaN</td>\n",
              "      <td>NaN</td>\n",
              "      <td>NaN</td>\n",
              "      <td>NaN</td>\n",
              "    </tr>\n",
              "  </tbody>\n",
              "</table>\n",
              "</div>\n",
              "    <div class=\"colab-df-buttons\">\n",
              "\n",
              "  <div class=\"colab-df-container\">\n",
              "    <button class=\"colab-df-convert\" onclick=\"convertToInteractive('df-f4214343-0de5-41e7-90b0-c0854d749563')\"\n",
              "            title=\"Convert this dataframe to an interactive table.\"\n",
              "            style=\"display:none;\">\n",
              "\n",
              "  <svg xmlns=\"http://www.w3.org/2000/svg\" height=\"24px\" viewBox=\"0 -960 960 960\">\n",
              "    <path d=\"M120-120v-720h720v720H120Zm60-500h600v-160H180v160Zm220 220h160v-160H400v160Zm0 220h160v-160H400v160ZM180-400h160v-160H180v160Zm440 0h160v-160H620v160ZM180-180h160v-160H180v160Zm440 0h160v-160H620v160Z\"/>\n",
              "  </svg>\n",
              "    </button>\n",
              "\n",
              "  <style>\n",
              "    .colab-df-container {\n",
              "      display:flex;\n",
              "      gap: 12px;\n",
              "    }\n",
              "\n",
              "    .colab-df-convert {\n",
              "      background-color: #E8F0FE;\n",
              "      border: none;\n",
              "      border-radius: 50%;\n",
              "      cursor: pointer;\n",
              "      display: none;\n",
              "      fill: #1967D2;\n",
              "      height: 32px;\n",
              "      padding: 0 0 0 0;\n",
              "      width: 32px;\n",
              "    }\n",
              "\n",
              "    .colab-df-convert:hover {\n",
              "      background-color: #E2EBFA;\n",
              "      box-shadow: 0px 1px 2px rgba(60, 64, 67, 0.3), 0px 1px 3px 1px rgba(60, 64, 67, 0.15);\n",
              "      fill: #174EA6;\n",
              "    }\n",
              "\n",
              "    .colab-df-buttons div {\n",
              "      margin-bottom: 4px;\n",
              "    }\n",
              "\n",
              "    [theme=dark] .colab-df-convert {\n",
              "      background-color: #3B4455;\n",
              "      fill: #D2E3FC;\n",
              "    }\n",
              "\n",
              "    [theme=dark] .colab-df-convert:hover {\n",
              "      background-color: #434B5C;\n",
              "      box-shadow: 0px 1px 3px 1px rgba(0, 0, 0, 0.15);\n",
              "      filter: drop-shadow(0px 1px 2px rgba(0, 0, 0, 0.3));\n",
              "      fill: #FFFFFF;\n",
              "    }\n",
              "  </style>\n",
              "\n",
              "    <script>\n",
              "      const buttonEl =\n",
              "        document.querySelector('#df-f4214343-0de5-41e7-90b0-c0854d749563 button.colab-df-convert');\n",
              "      buttonEl.style.display =\n",
              "        google.colab.kernel.accessAllowed ? 'block' : 'none';\n",
              "\n",
              "      async function convertToInteractive(key) {\n",
              "        const element = document.querySelector('#df-f4214343-0de5-41e7-90b0-c0854d749563');\n",
              "        const dataTable =\n",
              "          await google.colab.kernel.invokeFunction('convertToInteractive',\n",
              "                                                    [key], {});\n",
              "        if (!dataTable) return;\n",
              "\n",
              "        const docLinkHtml = 'Like what you see? Visit the ' +\n",
              "          '<a target=\"_blank\" href=https://colab.research.google.com/notebooks/data_table.ipynb>data table notebook</a>'\n",
              "          + ' to learn more about interactive tables.';\n",
              "        element.innerHTML = '';\n",
              "        dataTable['output_type'] = 'display_data';\n",
              "        await google.colab.output.renderOutput(dataTable, element);\n",
              "        const docLink = document.createElement('div');\n",
              "        docLink.innerHTML = docLinkHtml;\n",
              "        element.appendChild(docLink);\n",
              "      }\n",
              "    </script>\n",
              "  </div>\n",
              "\n",
              "\n",
              "<div id=\"df-a9501dbd-60a5-4374-b48c-56474fb0eb7b\">\n",
              "  <button class=\"colab-df-quickchart\" onclick=\"quickchart('df-a9501dbd-60a5-4374-b48c-56474fb0eb7b')\"\n",
              "            title=\"Suggest charts\"\n",
              "            style=\"display:none;\">\n",
              "\n",
              "<svg xmlns=\"http://www.w3.org/2000/svg\" height=\"24px\"viewBox=\"0 0 24 24\"\n",
              "     width=\"24px\">\n",
              "    <g>\n",
              "        <path d=\"M19 3H5c-1.1 0-2 .9-2 2v14c0 1.1.9 2 2 2h14c1.1 0 2-.9 2-2V5c0-1.1-.9-2-2-2zM9 17H7v-7h2v7zm4 0h-2V7h2v10zm4 0h-2v-4h2v4z\"/>\n",
              "    </g>\n",
              "</svg>\n",
              "  </button>\n",
              "\n",
              "<style>\n",
              "  .colab-df-quickchart {\n",
              "      --bg-color: #E8F0FE;\n",
              "      --fill-color: #1967D2;\n",
              "      --hover-bg-color: #E2EBFA;\n",
              "      --hover-fill-color: #174EA6;\n",
              "      --disabled-fill-color: #AAA;\n",
              "      --disabled-bg-color: #DDD;\n",
              "  }\n",
              "\n",
              "  [theme=dark] .colab-df-quickchart {\n",
              "      --bg-color: #3B4455;\n",
              "      --fill-color: #D2E3FC;\n",
              "      --hover-bg-color: #434B5C;\n",
              "      --hover-fill-color: #FFFFFF;\n",
              "      --disabled-bg-color: #3B4455;\n",
              "      --disabled-fill-color: #666;\n",
              "  }\n",
              "\n",
              "  .colab-df-quickchart {\n",
              "    background-color: var(--bg-color);\n",
              "    border: none;\n",
              "    border-radius: 50%;\n",
              "    cursor: pointer;\n",
              "    display: none;\n",
              "    fill: var(--fill-color);\n",
              "    height: 32px;\n",
              "    padding: 0;\n",
              "    width: 32px;\n",
              "  }\n",
              "\n",
              "  .colab-df-quickchart:hover {\n",
              "    background-color: var(--hover-bg-color);\n",
              "    box-shadow: 0 1px 2px rgba(60, 64, 67, 0.3), 0 1px 3px 1px rgba(60, 64, 67, 0.15);\n",
              "    fill: var(--button-hover-fill-color);\n",
              "  }\n",
              "\n",
              "  .colab-df-quickchart-complete:disabled,\n",
              "  .colab-df-quickchart-complete:disabled:hover {\n",
              "    background-color: var(--disabled-bg-color);\n",
              "    fill: var(--disabled-fill-color);\n",
              "    box-shadow: none;\n",
              "  }\n",
              "\n",
              "  .colab-df-spinner {\n",
              "    border: 2px solid var(--fill-color);\n",
              "    border-color: transparent;\n",
              "    border-bottom-color: var(--fill-color);\n",
              "    animation:\n",
              "      spin 1s steps(1) infinite;\n",
              "  }\n",
              "\n",
              "  @keyframes spin {\n",
              "    0% {\n",
              "      border-color: transparent;\n",
              "      border-bottom-color: var(--fill-color);\n",
              "      border-left-color: var(--fill-color);\n",
              "    }\n",
              "    20% {\n",
              "      border-color: transparent;\n",
              "      border-left-color: var(--fill-color);\n",
              "      border-top-color: var(--fill-color);\n",
              "    }\n",
              "    30% {\n",
              "      border-color: transparent;\n",
              "      border-left-color: var(--fill-color);\n",
              "      border-top-color: var(--fill-color);\n",
              "      border-right-color: var(--fill-color);\n",
              "    }\n",
              "    40% {\n",
              "      border-color: transparent;\n",
              "      border-right-color: var(--fill-color);\n",
              "      border-top-color: var(--fill-color);\n",
              "    }\n",
              "    60% {\n",
              "      border-color: transparent;\n",
              "      border-right-color: var(--fill-color);\n",
              "    }\n",
              "    80% {\n",
              "      border-color: transparent;\n",
              "      border-right-color: var(--fill-color);\n",
              "      border-bottom-color: var(--fill-color);\n",
              "    }\n",
              "    90% {\n",
              "      border-color: transparent;\n",
              "      border-bottom-color: var(--fill-color);\n",
              "    }\n",
              "  }\n",
              "</style>\n",
              "\n",
              "  <script>\n",
              "    async function quickchart(key) {\n",
              "      const quickchartButtonEl =\n",
              "        document.querySelector('#' + key + ' button');\n",
              "      quickchartButtonEl.disabled = true;  // To prevent multiple clicks.\n",
              "      quickchartButtonEl.classList.add('colab-df-spinner');\n",
              "      try {\n",
              "        const charts = await google.colab.kernel.invokeFunction(\n",
              "            'suggestCharts', [key], {});\n",
              "      } catch (error) {\n",
              "        console.error('Error during call to suggestCharts:', error);\n",
              "      }\n",
              "      quickchartButtonEl.classList.remove('colab-df-spinner');\n",
              "      quickchartButtonEl.classList.add('colab-df-quickchart-complete');\n",
              "    }\n",
              "    (() => {\n",
              "      let quickchartButtonEl =\n",
              "        document.querySelector('#df-a9501dbd-60a5-4374-b48c-56474fb0eb7b button');\n",
              "      quickchartButtonEl.style.display =\n",
              "        google.colab.kernel.accessAllowed ? 'block' : 'none';\n",
              "    })();\n",
              "  </script>\n",
              "</div>\n",
              "    </div>\n",
              "  </div>\n"
            ]
          },
          "metadata": {},
          "execution_count": 3
        }
      ],
      "source": [
        "import pandas as pd\n",
        "\n",
        "file_name = list(uploaded.keys())[0]\n",
        "\n",
        "# Read the Excel file into a DataFrame\n",
        "df = pd.read_excel(file_name)\n",
        "\n",
        "# Display the first few rows of the DataFrame\n",
        "df.head()\n"
      ]
    },
    {
      "cell_type": "code",
      "execution_count": null,
      "metadata": {
        "colab": {
          "base_uri": "https://localhost:8080/"
        },
        "id": "uGTij6vl7kK2",
        "outputId": "123f4be1-f693-4604-d6b5-bc47cc0cabd7"
      },
      "outputs": [
        {
          "name": "stdout",
          "output_type": "stream",
          "text": [
            "Average Word Count in Review Text: 21.26\n",
            "Average likesCount: 0.18\n"
          ]
        }
      ],
      "source": [
        "import pandas as pd\n",
        "\n",
        "df = pd.read_excel('output_with_sentiment.xlsx')\n",
        "\n",
        "# Calculate word count for each review\n",
        "df['word_count'] = df['text'].apply(lambda x: len(str(x).split()))\n",
        "\n",
        "# Calculate average word count\n",
        "average_word_count = df['word_count'].mean()\n",
        "\n",
        "# Calculate average likesCount\n",
        "average_likes_count = df['likesCount'].mean()\n",
        "\n",
        "print(f\"Average Word Count in Review Text: {average_word_count:.2f}\")\n",
        "print(f\"Average likesCount: {average_likes_count:.2f}\")\n"
      ]
    },
    {
      "cell_type": "code",
      "execution_count": null,
      "metadata": {
        "colab": {
          "base_uri": "https://localhost:8080/",
          "height": 452
        },
        "id": "YnxAQ3kO7-Rp",
        "outputId": "4578c4e1-0e71-419c-e838-25655f3dd68c"
      },
      "outputs": [
        {
          "data": {
            "image/png": "[encoded data removed]",
            "text/plain": [
              "<Figure size 640x480 with 1 Axes>"
            ]
          },
          "metadata": {},
          "output_type": "display_data"
        }
      ],
      "source": [
        "import pandas as pd\n",
        "import matplotlib.pyplot as plt\n",
        "\n",
        "df = pd.read_excel('output_with_sentiment.xlsx')\n",
        "\n",
        "# Calculate word count for each review\n",
        "df['word_count'] = df['text'].apply(lambda x: len(str(x).split()))\n",
        "\n",
        "# Calculate average word count and likesCount\n",
        "average_word_count = df['word_count'].mean()\n",
        "average_likes_count = df['likesCount'].mean()\n",
        "\n",
        "# Plot a bar chart\n",
        "fig, ax = plt.subplots()\n",
        "ax.bar(['Average Word Count', 'Average likesCount'], [average_word_count, average_likes_count], color=['blue', 'green'])\n",
        "\n",
        "# Add labels and title\n",
        "ax.set_ylabel('Count')\n",
        "ax.set_title('Average Word Count in Review Text vs Average likesCount')\n",
        "\n",
        "# Show the bar chart\n",
        "plt.show()\n"
      ]
    },
    {
      "cell_type": "code",
      "execution_count": null,
      "metadata": {
        "colab": {
          "base_uri": "https://localhost:8080/"
        },
        "id": "rq5nGpMI9kJ3",
        "outputId": "c0b2f296-1f88-473d-d49e-5f38af589c35"
      },
      "outputs": [
        {
          "name": "stdout",
          "output_type": "stream",
          "text": [
            "Average Sentiment Polarity: 0.39\n"
          ]
        }
      ],
      "source": [
        "from textblob import TextBlob\n",
        "\n",
        "# Calculate sentiment polarity for each review\n",
        "df['sentiment_polarity'] = df['text'].apply(lambda x: TextBlob(str(x)).sentiment.polarity)\n",
        "\n",
        "# Calculate average sentiment polarity\n",
        "average_sentiment_polarity = df['sentiment_polarity'].mean()\n",
        "\n",
        "print(f\"Average Sentiment Polarity: {average_sentiment_polarity:.2f}\")\n"
      ]
    },
    {
      "cell_type": "code",
      "execution_count": null,
      "metadata": {
        "colab": {
          "base_uri": "https://localhost:8080/"
        },
        "id": "tFf9toDl-qzG",
        "outputId": "1efe16d8-e182-4ed1-c4cd-d09312318833"
      },
      "outputs": [
        {
          "name": "stdout",
          "output_type": "stream",
          "text": [
            "Average Sentiment Polarity: 0.39\n"
          ]
        }
      ],
      "source": [
        "#calculate average sentiment polarity in the \"sentiment_analysis_column\"\n",
        "average_sentiment_polarity = df['sentiment_polarity'].mean()\n",
        "print(f\"Average Sentiment Polarity: {average_sentiment_polarity:.2f}\")"
      ]
    },
    {
      "cell_type": "code",
      "execution_count": null,
      "metadata": {
        "colab": {
          "base_uri": "https://localhost:8080/",
          "height": 564
        },
        "id": "drDMf3APF7hO",
        "outputId": "366596eb-69b7-4e0e-a134-d71db3a1ad57"
      },
      "outputs": [
        {
          "data": {
            "image/png": "[encoded data removed]",
            "text/plain": [
              "<Figure size 1000x600 with 1 Axes>"
            ]
          },
          "metadata": {},
          "output_type": "display_data"
        }
      ],
      "source": [
        "import pandas as pd\n",
        "import matplotlib.pyplot as plt\n",
        "from textblob import TextBlob\n",
        "\n",
        "df = pd.read_excel('output_with_sentiment.xlsx')\n",
        "\n",
        "# Calculate word count for each review in the \"review text\" column\n",
        "df['word_count_review'] = df['text'].apply(lambda x: len(str(x).split()))\n",
        "\n",
        "# Calculate sentiment polarity for each review in the \"sentiment_analysis_column\"\n",
        "df['sentiment_polarity'] = df['textblob'].apply(lambda x: TextBlob(str(x)).sentiment.polarity)\n",
        "\n",
        "# Plot a scatter plot\n",
        "plt.figure(figsize=(10, 6))\n",
        "plt.scatter(df['word_count_review'], df['sentiment_polarity'], alpha=0.5)\n",
        "plt.title('Scatter Plot: Word Count vs Sentiment Polarity')\n",
        "plt.xlabel('Word Count in Review Text')\n",
        "plt.ylabel('Sentiment Polarity')\n",
        "plt.grid(True)\n",
        "plt.show()\n"
      ]
    },
    {
      "cell_type": "code",
      "execution_count": null,
      "metadata": {
        "colab": {
          "base_uri": "https://localhost:8080/"
        },
        "id": "k0wjjMmPG9y5",
        "outputId": "6db6cf7d-7f57-4dbc-ba44-56495d00236c"
      },
      "outputs": [
        {
          "name": "stdout",
          "output_type": "stream",
          "text": [
            "                                                text         textblob  \\\n",
            "0  Some of the best food I've ever had! We were r...  Strong Positive   \n",
            "1  Loved it the food was great. Can’t wait to go ...         Positive   \n",
            "2  Amazing food and staff was great! Can’t wait t...         Positive   \n",
            "3  This place is the sleeper hit of Wise County. ...         Positive   \n",
            "4                                 Food was wonderful  Strong Positive   \n",
            "\n",
            "   imagesCount  isAdvertisement  isLocalGuide  likesCount                name  \\\n",
            "0          698            False         False           0       Hannah Thomas   \n",
            "1          698            False         False           0   Kristi B.J. Trump   \n",
            "2          698            False          True           0  B. J. Kristi Trump   \n",
            "3          698            False         False           0          Meg Wilson   \n",
            "4          698            False         False           0         Angela webb   \n",
            "\n",
            "            publishedAtDate  reviewId                            reviewId.1  \\\n",
            "0  2023-06-15T00:28:24.174Z         2  ChdDSUhNMG9nS0VJQ0FnSUR4eS1DY2lRRRAB   \n",
            "1  2023-06-12T03:10:13.196Z         2  ChdDSUhNMG9nS0VJQ0FnSUR4LVpDb3hBRRAB   \n",
            "2  2023-06-11T20:07:43.266Z         2  ChdDSUhNMG9nS0VJQ0FnSUR4LVkyTzFBRRAB   \n",
            "3  2023-06-06T12:07:00.127Z         2   ChZDSUhNMG9nS0VJQ0FnSUR4bU1INVZBEAE   \n",
            "4  2023-06-03T02:21:13.763Z         2  ChdDSUhNMG9nS0VJQ0FnSUR4ak5ybjZRRRAB   \n",
            "\n",
            "   ...                                searchPageLoadedUrl searchPageUrl  \\\n",
            "0  ...  https://www.google.com/maps/search/Restaurants...   Restaurants   \n",
            "1  ...  https://www.google.com/maps/search/Restaurants...   Restaurants   \n",
            "2  ...  https://www.google.com/maps/search/Restaurants...   Restaurants   \n",
            "3  ...  https://www.google.com/maps/search/Restaurants...   Restaurants   \n",
            "4  ...  https://www.google.com/maps/search/Restaurants...   Restaurants   \n",
            "\n",
            "   similarHotelsNearby     stars                  state  BERT  \\\n",
            "0                    5  Virginia  The Wood Booger Grill   4.3   \n",
            "1                    5  Virginia  The Wood Booger Grill   4.3   \n",
            "2                    5  Virginia  The Wood Booger Grill   4.3   \n",
            "3                    5  Virginia  The Wood Booger Grill   4.3   \n",
            "4                    5  Virginia  The Wood Booger Grill   4.3   \n",
            "\n",
            "   sentiments_match      Unnamed: 30  Unnamed: 31  word_count  \n",
            "0          0.825000  Strong Positive         True          18  \n",
            "1          0.500000         Positive         True          11  \n",
            "2          0.533333         Positive         True          11  \n",
            "3          0.302778         Positive         True          57  \n",
            "4          1.000000  Strong Positive         True           3  \n",
            "\n",
            "[5 rows x 33 columns]\n"
          ]
        }
      ],
      "source": [
        "import pandas as pd\n",
        "\n",
        "df = pd.read_excel('output_with_sentiment.xlsx')\n",
        "\n",
        "# Add a new column 'word_count' to the DataFrame\n",
        "df['word_count'] = df['text'].apply(lambda x: len(str(x).split()))\n",
        "\n",
        "# Display the updated DataFrame\n",
        "print(df.head())\n"
      ]
    },
    {
      "cell_type": "code",
      "execution_count": null,
      "metadata": {
        "colab": {
          "base_uri": "https://localhost:8080/"
        },
        "id": "aqU_DZ6xHlf5",
        "outputId": "254e86c6-8524-446e-cd15-e3ca669563b6"
      },
      "outputs": [
        {
          "name": "stdout",
          "output_type": "stream",
          "text": [
            "Resulted dataset saved to: resulted_dataset.xlsx\n"
          ]
        }
      ],
      "source": [
        "output_file_path = 'resulted_dataset.xlsx'\n",
        "\n",
        "# Save the DataFrame to a CSV file\n",
        "df.to_excel(output_file_path, index=False)\n",
        "\n",
        "print(f\"Resulted dataset saved to: {output_file_path}\")\n"
      ]
    },
    {
      "cell_type": "code",
      "execution_count": null,
      "metadata": {
        "id": "2xbtc2plSOnh"
      },
      "outputs": [],
      "source": []
    },
    {
      "cell_type": "code",
      "execution_count": null,
      "metadata": {
        "colab": {
          "base_uri": "https://localhost:8080/"
        },
        "id": "coI2Y8QjR-40",
        "outputId": "719aeb75-87f9-4b43-86c2-f11b3bc45807"
      },
      "outputs": [
        {
          "name": "stdout",
          "output_type": "stream",
          "text": [
            "Requirement already satisfied: spacy in /usr/local/lib/python3.10/dist-packages (3.6.1)\n",
            "Requirement already satisfied: spacy-legacy<3.1.0,>=3.0.11 in /usr/local/lib/python3.10/dist-packages (from spacy) (3.0.12)\n",
            "Requirement already satisfied: spacy-loggers<2.0.0,>=1.0.0 in /usr/local/lib/python3.10/dist-packages (from spacy) (1.0.5)\n",
            "Requirement already satisfied: murmurhash<1.1.0,>=0.28.0 in /usr/local/lib/python3.10/dist-packages (from spacy) (1.0.10)\n",
            "Requirement already satisfied: cymem<2.1.0,>=2.0.2 in /usr/local/lib/python3.10/dist-packages (from spacy) (2.0.8)\n",
            "Requirement already satisfied: preshed<3.1.0,>=3.0.2 in /usr/local/lib/python3.10/dist-packages (from spacy) (3.0.9)\n",
            "Requirement already satisfied: thinc<8.2.0,>=8.1.8 in /usr/local/lib/python3.10/dist-packages (from spacy) (8.1.12)\n",
            "Requirement already satisfied: wasabi<1.2.0,>=0.9.1 in /usr/local/lib/python3.10/dist-packages (from spacy) (1.1.2)\n",
            "Requirement already satisfied: srsly<3.0.0,>=2.4.3 in /usr/local/lib/python3.10/dist-packages (from spacy) (2.4.8)\n",
            "Requirement already satisfied: catalogue<2.1.0,>=2.0.6 in /usr/local/lib/python3.10/dist-packages (from spacy) (2.0.10)\n",
            "Requirement already satisfied: typer<0.10.0,>=0.3.0 in /usr/local/lib/python3.10/dist-packages (from spacy) (0.9.0)\n",
            "Requirement already satisfied: pathy>=0.10.0 in /usr/local/lib/python3.10/dist-packages (from spacy) (0.10.3)\n",
            "Requirement already satisfied: smart-open<7.0.0,>=5.2.1 in /usr/local/lib/python3.10/dist-packages (from spacy) (6.4.0)\n",
            "Requirement already satisfied: tqdm<5.0.0,>=4.38.0 in /usr/local/lib/python3.10/dist-packages (from spacy) (4.66.1)\n",
            "Requirement already satisfied: numpy>=1.15.0 in /usr/local/lib/python3.10/dist-packages (from spacy) (1.23.5)\n",
            "Requirement already satisfied: requests<3.0.0,>=2.13.0 in /usr/local/lib/python3.10/dist-packages (from spacy) (2.31.0)\n",
            "Requirement already satisfied: pydantic!=1.8,!=1.8.1,<3.0.0,>=1.7.4 in /usr/local/lib/python3.10/dist-packages (from spacy) (1.10.13)\n",
            "Requirement already satisfied: jinja2 in /usr/local/lib/python3.10/dist-packages (from spacy) (3.1.2)\n",
            "Requirement already satisfied: setuptools in /usr/local/lib/python3.10/dist-packages (from spacy) (67.7.2)\n",
            "Requirement already satisfied: packaging>=20.0 in /usr/local/lib/python3.10/dist-packages (from spacy) (23.2)\n",
            "Requirement already satisfied: langcodes<4.0.0,>=3.2.0 in /usr/local/lib/python3.10/dist-packages (from spacy) (3.3.0)\n",
            "Requirement already satisfied: typing-extensions>=4.2.0 in /usr/local/lib/python3.10/dist-packages (from pydantic!=1.8,!=1.8.1,<3.0.0,>=1.7.4->spacy) (4.5.0)\n",
            "Requirement already satisfied: charset-normalizer<4,>=2 in /usr/local/lib/python3.10/dist-packages (from requests<3.0.0,>=2.13.0->spacy) (3.3.2)\n",
            "Requirement already satisfied: idna<4,>=2.5 in /usr/local/lib/python3.10/dist-packages (from requests<3.0.0,>=2.13.0->spacy) (3.6)\n",
            "Requirement already satisfied: urllib3<3,>=1.21.1 in /usr/local/lib/python3.10/dist-packages (from requests<3.0.0,>=2.13.0->spacy) (2.0.7)\n",
            "Requirement already satisfied: certifi>=2017.4.17 in /usr/local/lib/python3.10/dist-packages (from requests<3.0.0,>=2.13.0->spacy) (2023.11.17)\n",
            "Requirement already satisfied: blis<0.8.0,>=0.7.8 in /usr/local/lib/python3.10/dist-packages (from thinc<8.2.0,>=8.1.8->spacy) (0.7.11)\n",
            "Requirement already satisfied: confection<1.0.0,>=0.0.1 in /usr/local/lib/python3.10/dist-packages (from thinc<8.2.0,>=8.1.8->spacy) (0.1.4)\n",
            "Requirement already satisfied: click<9.0.0,>=7.1.1 in /usr/local/lib/python3.10/dist-packages (from typer<0.10.0,>=0.3.0->spacy) (8.1.7)\n",
            "Requirement already satisfied: MarkupSafe>=2.0 in /usr/local/lib/python3.10/dist-packages (from jinja2->spacy) (2.1.3)\n"
          ]
        }
      ],
      "source": [
        "!pip install spacy\n"
      ]
    },
    {
      "cell_type": "code",
      "execution_count": null,
      "metadata": {
        "colab": {
          "base_uri": "https://localhost:8080/"
        },
        "id": "76hw3YMASDO8",
        "outputId": "ae119332-dbdf-488d-a76e-baeae38924aa"
      },
      "outputs": [
        {
          "name": "stdout",
          "output_type": "stream",
          "text": [
            "2023-12-24 19:23:38.498147: E external/local_xla/xla/stream_executor/cuda/cuda_dnn.cc:9261] Unable to register cuDNN factory: Attempting to register factory for plugin cuDNN when one has already been registered\n",
            "2023-12-24 19:23:38.498291: E external/local_xla/xla/stream_executor/cuda/cuda_fft.cc:607] Unable to register cuFFT factory: Attempting to register factory for plugin cuFFT when one has already been registered\n",
            "2023-12-24 19:23:38.504418: E external/local_xla/xla/stream_executor/cuda/cuda_blas.cc:1515] Unable to register cuBLAS factory: Attempting to register factory for plugin cuBLAS when one has already been registered\n",
            "2023-12-24 19:23:38.531347: I tensorflow/core/platform/cpu_feature_guard.cc:182] This TensorFlow binary is optimized to use available CPU instructions in performance-critical operations.\n",
            "To enable the following instructions: AVX2 FMA, in other operations, rebuild TensorFlow with the appropriate compiler flags.\n",
            "2023-12-24 19:23:40.082783: W tensorflow/compiler/tf2tensorrt/utils/py_utils.cc:38] TF-TRT Warning: Could not find TensorRT\n",
            "Collecting en-core-web-sm==3.6.0\n",
            "  Downloading https://github.com/explosion/spacy-models/releases/download/en_core_web_sm-3.6.0/en_core_web_sm-3.6.0-py3-none-any.whl (12.8 MB)\n",
            "\u001b[2K     \u001b[90m━━━━━━━━━━━━━━━━━━━━━━━━━━━━━━━━━━━━━━━━\u001b[0m \u001b[32m12.8/12.8 MB\u001b[0m \u001b[31m27.1 MB/s\u001b[0m eta \u001b[36m0:00:00\u001b[0m\n",
            "\u001b[?25hRequirement already satisfied: spacy<3.7.0,>=3.6.0 in /usr/local/lib/python3.10/dist-packages (from en-core-web-sm==3.6.0) (3.6.1)\n",
            "Requirement already satisfied: spacy-legacy<3.1.0,>=3.0.11 in /usr/local/lib/python3.10/dist-packages (from spacy<3.7.0,>=3.6.0->en-core-web-sm==3.6.0) (3.0.12)\n",
            "Requirement already satisfied: spacy-loggers<2.0.0,>=1.0.0 in /usr/local/lib/python3.10/dist-packages (from spacy<3.7.0,>=3.6.0->en-core-web-sm==3.6.0) (1.0.5)\n",
            "Requirement already satisfied: murmurhash<1.1.0,>=0.28.0 in /usr/local/lib/python3.10/dist-packages (from spacy<3.7.0,>=3.6.0->en-core-web-sm==3.6.0) (1.0.10)\n",
            "Requirement already satisfied: cymem<2.1.0,>=2.0.2 in /usr/local/lib/python3.10/dist-packages (from spacy<3.7.0,>=3.6.0->en-core-web-sm==3.6.0) (2.0.8)\n",
            "Requirement already satisfied: preshed<3.1.0,>=3.0.2 in /usr/local/lib/python3.10/dist-packages (from spacy<3.7.0,>=3.6.0->en-core-web-sm==3.6.0) (3.0.9)\n",
            "Requirement already satisfied: thinc<8.2.0,>=8.1.8 in /usr/local/lib/python3.10/dist-packages (from spacy<3.7.0,>=3.6.0->en-core-web-sm==3.6.0) (8.1.12)\n",
            "Requirement already satisfied: wasabi<1.2.0,>=0.9.1 in /usr/local/lib/python3.10/dist-packages (from spacy<3.7.0,>=3.6.0->en-core-web-sm==3.6.0) (1.1.2)\n",
            "Requirement already satisfied: srsly<3.0.0,>=2.4.3 in /usr/local/lib/python3.10/dist-packages (from spacy<3.7.0,>=3.6.0->en-core-web-sm==3.6.0) (2.4.8)\n",
            "Requirement already satisfied: catalogue<2.1.0,>=2.0.6 in /usr/local/lib/python3.10/dist-packages (from spacy<3.7.0,>=3.6.0->en-core-web-sm==3.6.0) (2.0.10)\n",
            "Requirement already satisfied: typer<0.10.0,>=0.3.0 in /usr/local/lib/python3.10/dist-packages (from spacy<3.7.0,>=3.6.0->en-core-web-sm==3.6.0) (0.9.0)\n",
            "Requirement already satisfied: pathy>=0.10.0 in /usr/local/lib/python3.10/dist-packages (from spacy<3.7.0,>=3.6.0->en-core-web-sm==3.6.0) (0.10.3)\n",
            "Requirement already satisfied: smart-open<7.0.0,>=5.2.1 in /usr/local/lib/python3.10/dist-packages (from spacy<3.7.0,>=3.6.0->en-core-web-sm==3.6.0) (6.4.0)\n",
            "Requirement already satisfied: tqdm<5.0.0,>=4.38.0 in /usr/local/lib/python3.10/dist-packages (from spacy<3.7.0,>=3.6.0->en-core-web-sm==3.6.0) (4.66.1)\n",
            "Requirement already satisfied: numpy>=1.15.0 in /usr/local/lib/python3.10/dist-packages (from spacy<3.7.0,>=3.6.0->en-core-web-sm==3.6.0) (1.23.5)\n",
            "Requirement already satisfied: requests<3.0.0,>=2.13.0 in /usr/local/lib/python3.10/dist-packages (from spacy<3.7.0,>=3.6.0->en-core-web-sm==3.6.0) (2.31.0)\n",
            "Requirement already satisfied: pydantic!=1.8,!=1.8.1,<3.0.0,>=1.7.4 in /usr/local/lib/python3.10/dist-packages (from spacy<3.7.0,>=3.6.0->en-core-web-sm==3.6.0) (1.10.13)\n",
            "Requirement already satisfied: jinja2 in /usr/local/lib/python3.10/dist-packages (from spacy<3.7.0,>=3.6.0->en-core-web-sm==3.6.0) (3.1.2)\n",
            "Requirement already satisfied: setuptools in /usr/local/lib/python3.10/dist-packages (from spacy<3.7.0,>=3.6.0->en-core-web-sm==3.6.0) (67.7.2)\n",
            "Requirement already satisfied: packaging>=20.0 in /usr/local/lib/python3.10/dist-packages (from spacy<3.7.0,>=3.6.0->en-core-web-sm==3.6.0) (23.2)\n",
            "Requirement already satisfied: langcodes<4.0.0,>=3.2.0 in /usr/local/lib/python3.10/dist-packages (from spacy<3.7.0,>=3.6.0->en-core-web-sm==3.6.0) (3.3.0)\n",
            "Requirement already satisfied: typing-extensions>=4.2.0 in /usr/local/lib/python3.10/dist-packages (from pydantic!=1.8,!=1.8.1,<3.0.0,>=1.7.4->spacy<3.7.0,>=3.6.0->en-core-web-sm==3.6.0) (4.5.0)\n",
            "Requirement already satisfied: charset-normalizer<4,>=2 in /usr/local/lib/python3.10/dist-packages (from requests<3.0.0,>=2.13.0->spacy<3.7.0,>=3.6.0->en-core-web-sm==3.6.0) (3.3.2)\n",
            "Requirement already satisfied: idna<4,>=2.5 in /usr/local/lib/python3.10/dist-packages (from requests<3.0.0,>=2.13.0->spacy<3.7.0,>=3.6.0->en-core-web-sm==3.6.0) (3.6)\n",
            "Requirement already satisfied: urllib3<3,>=1.21.1 in /usr/local/lib/python3.10/dist-packages (from requests<3.0.0,>=2.13.0->spacy<3.7.0,>=3.6.0->en-core-web-sm==3.6.0) (2.0.7)\n",
            "Requirement already satisfied: certifi>=2017.4.17 in /usr/local/lib/python3.10/dist-packages (from requests<3.0.0,>=2.13.0->spacy<3.7.0,>=3.6.0->en-core-web-sm==3.6.0) (2023.11.17)\n",
            "Requirement already satisfied: blis<0.8.0,>=0.7.8 in /usr/local/lib/python3.10/dist-packages (from thinc<8.2.0,>=8.1.8->spacy<3.7.0,>=3.6.0->en-core-web-sm==3.6.0) (0.7.11)\n",
            "Requirement already satisfied: confection<1.0.0,>=0.0.1 in /usr/local/lib/python3.10/dist-packages (from thinc<8.2.0,>=8.1.8->spacy<3.7.0,>=3.6.0->en-core-web-sm==3.6.0) (0.1.4)\n",
            "Requirement already satisfied: click<9.0.0,>=7.1.1 in /usr/local/lib/python3.10/dist-packages (from typer<0.10.0,>=0.3.0->spacy<3.7.0,>=3.6.0->en-core-web-sm==3.6.0) (8.1.7)\n",
            "Requirement already satisfied: MarkupSafe>=2.0 in /usr/local/lib/python3.10/dist-packages (from jinja2->spacy<3.7.0,>=3.6.0->en-core-web-sm==3.6.0) (2.1.3)\n",
            "\u001b[38;5;2m✔ Download and installation successful\u001b[0m\n",
            "You can now load the package via spacy.load('en_core_web_sm')\n"
          ]
        }
      ],
      "source": [
        "!python -m spacy download en_core_web_sm\n"
      ]
    },
    {
      "cell_type": "code",
      "execution_count": null,
      "metadata": {
        "colab": {
          "base_uri": "https://localhost:8080/"
        },
        "id": "L6cKgTWrSQOy",
        "outputId": "084fdad5-e929-4661-ae76-6f90232318e7"
      },
      "outputs": [
        {
          "name": "stdout",
          "output_type": "stream",
          "text": [
            "Occurrences of names in the text column: 920\n"
          ]
        }
      ],
      "source": [
        "import pandas as pd\n",
        "import spacy\n",
        "\n",
        "df = pd.read_excel('your_resulted_dataset.xlsx')\n",
        "\n",
        "# Load spaCy model\n",
        "nlp = spacy.load('en_core_web_sm')\n",
        "\n",
        "# Apply spaCy named entity recognition to each text in the column\n",
        "df['doc'] = df['text'].apply(nlp)\n",
        "\n",
        "# Count occurrences of names (PERSON entities)\n",
        "name_occurrences = df['doc'].apply(lambda x: sum(1 for ent in x.ents if ent.label_ == 'PERSON')).sum()\n",
        "\n",
        "print(f\"Occurrences of names in the text column: {name_occurrences}\")\n"
      ]
    },
    {
      "cell_type": "code",
      "execution_count": null,
      "metadata": {
        "colab": {
          "base_uri": "https://localhost:8080/"
        },
        "id": "Qm__SeDqTVsM",
        "outputId": "329d4fd6-df88-4254-dbb5-3ee898fd29b7"
      },
      "outputs": [
        {
          "name": "stdout",
          "output_type": "stream",
          "text": [
            "Result saved to: output_with_name_occurrences.xlsx\n"
          ]
        }
      ],
      "source": [
        "# Save the DataFrame to a new Excel file\n",
        "output_file_path = 'output_with_name_occurrences.xlsx'\n",
        "df.to_excel(output_file_path, index=False)\n",
        "\n",
        "print(f\"Result saved to: {output_file_path}\")\n"
      ]
    },
    {
      "cell_type": "code",
      "source": [
        "import pandas as pd\n",
        "from nltk.tokenize import word_tokenize\n",
        "from collections import Counter\n",
        "import nltk\n",
        "nltk.download('punkt')\n",
        "\n",
        "df = pd.read_excel('your_resulted_dataset.xlsx')\n",
        "\n",
        "text_column_name = 'text_column'\n",
        "\n",
        "# Function to tokenize and count words\n",
        "def count_words(text):\n",
        "    tokens = word_tokenize(str('text').lower())  # Convert to lowercase for case-insensitivity\n",
        "    return Counter(tokens)\n",
        "\n",
        "# Apply the function to the text column\n",
        "df['word_counts'] = df['text'].apply(count_words)\n",
        "\n",
        "# Function to count total repeated words\n",
        "def count_total_repeated_words(counter):\n",
        "    return sum(count - 1 for count in counter.values() if count > 1)\n",
        "\n",
        "# Apply the function to calculate total repeated words\n",
        "df['total_repeated_words'] = df['word_counts'].apply(count_total_repeated_words)\n",
        "\n",
        "# Display the DataFrame with total repeated words\n",
        "print(df[['text', 'total_repeated_words']])\n"
      ],
      "metadata": {
        "colab": {
          "base_uri": "https://localhost:8080/"
        },
        "id": "rwRTK8eygtL5",
        "outputId": "849e279e-85d9-4fd2-bfdb-b0dfd47354d3"
      },
      "execution_count": null,
      "outputs": [
        {
          "output_type": "stream",
          "name": "stderr",
          "text": [
            "[nltk_data] Downloading package punkt to /root/nltk_data...\n",
            "[nltk_data]   Package punkt is already up-to-date!\n"
          ]
        },
        {
          "output_type": "stream",
          "name": "stdout",
          "text": [
            "                                                   text  total_repeated_words\n",
            "0     Some of the best food I've ever had! We were r...                     0\n",
            "1     Loved it the food was great. Can’t wait to go ...                     0\n",
            "2     Amazing food and staff was great! Can’t wait t...                     0\n",
            "3     This place is the sleeper hit of Wise County. ...                     0\n",
            "4                                    Food was wonderful                     0\n",
            "...                                                 ...                   ...\n",
            "9066                               Best burgers around!                     0\n",
            "9067                                            Awesome                     0\n",
            "9068       Great place to eat friendly and great people                     0\n",
            "9069                                   Amazing Burgers!                     0\n",
            "9070                                   Best fries EVER.                     0\n",
            "\n",
            "[9071 rows x 2 columns]\n"
          ]
        }
      ]
    },
    {
      "cell_type": "code",
      "source": [
        "# Save the DataFrame to a new Excel file\n",
        "output_file_path = 'output_with_name_occurrences.xlsx'\n",
        "df.to_excel(output_file_path, index=False)\n",
        "\n",
        "print(f\"Result saved to: {output_file_path}\")\n"
      ],
      "metadata": {
        "colab": {
          "base_uri": "https://localhost:8080/"
        },
        "id": "y6sv6wsBhUGv",
        "outputId": "1ed9b2cb-4e6b-4d88-ebda-e380d1cb6886"
      },
      "execution_count": null,
      "outputs": [
        {
          "output_type": "stream",
          "name": "stdout",
          "text": [
            "Result saved to: output_with_name_occurrences.xlsx\n"
          ]
        }
      ]
    },
    {
      "cell_type": "code",
      "source": [
        "# Save the DataFrame to a new Excel file\n",
        "output_file_path = 'output_with_name_occurrences.xlsx'\n",
        "df.to_excel(output_file_path, index=False)\n",
        "\n",
        "print(f\"Result saved to: {output_file_path}\")"
      ],
      "metadata": {
        "colab": {
          "base_uri": "https://localhost:8080/"
        },
        "id": "Kxn3CFbHjTs2",
        "outputId": "712293b6-2e38-41aa-d18c-8c637ac76eec"
      },
      "execution_count": null,
      "outputs": [
        {
          "output_type": "stream",
          "name": "stdout",
          "text": [
            "Result saved to: output_with_name_occurrences.xlsx\n"
          ]
        }
      ]
    },
    {
      "cell_type": "code",
      "source": [
        "import pandas as pd\n",
        "from nltk.tokenize import word_tokenize\n",
        "from collections import Counter\n",
        "\n",
        "df = pd.read_excel('your_resulted_dataset.xlsx')\n",
        "\n",
        "# Assuming 'text_column' is the name of your text column\n",
        "text_column_name = 'text'\n",
        "\n",
        "# Function to tokenize and count duplicate words\n",
        "def count_duplicate_words(text):\n",
        "    tokens = word_tokenize(str(text).lower())  # Convert to lowercase for case-insensitivity\n",
        "    word_counts = Counter(tokens)\n",
        "    duplicate_counts = {word: count - 1 for word, count in word_counts.items() if count > 1}\n",
        "    return duplicate_counts\n",
        "\n",
        "# Apply the function to the text column\n",
        "df['duplicate_word_counts'] = df['text'].apply(count_duplicate_words)\n",
        "\n",
        "# Display the DataFrame with duplicate word counts\n",
        "print(df[['text', 'duplicate_word_counts']])\n"
      ],
      "metadata": {
        "colab": {
          "base_uri": "https://localhost:8080/"
        },
        "id": "B-4ZFxwoi53K",
        "outputId": "f0f639b5-53cb-4b56-848c-eae87da50aab"
      },
      "execution_count": null,
      "outputs": [
        {
          "output_type": "stream",
          "name": "stdout",
          "text": [
            "                                                   text  \\\n",
            "0     Some of the best food I've ever had! We were r...   \n",
            "1     Loved it the food was great. Can’t wait to go ...   \n",
            "2     Amazing food and staff was great! Can’t wait t...   \n",
            "3     This place is the sleeper hit of Wise County. ...   \n",
            "4                                    Food was wonderful   \n",
            "...                                                 ...   \n",
            "9066                               Best burgers around!   \n",
            "9067                                            Awesome   \n",
            "9068       Great place to eat friendly and great people   \n",
            "9069                                   Amazing Burgers!   \n",
            "9070                                   Best fries EVER.   \n",
            "\n",
            "                                  duplicate_word_counts  \n",
            "0                                             {'we': 1}  \n",
            "1                                              {'.': 1}  \n",
            "2                                                    {}  \n",
            "3     {'is': 1, 'the': 2, 'of': 1, '.': 3, 'a': 1, '...  \n",
            "4                                                    {}  \n",
            "...                                                 ...  \n",
            "9066                                                 {}  \n",
            "9067                                                 {}  \n",
            "9068                                       {'great': 1}  \n",
            "9069                                                 {}  \n",
            "9070                                                 {}  \n",
            "\n",
            "[9071 rows x 2 columns]\n"
          ]
        }
      ]
    },
    {
      "cell_type": "code",
      "source": [
        "import pandas as pd\n",
        "import re\n",
        "\n",
        "df = pd.read_excel('output_with_name_occurrences.xlsx')\n",
        "\n",
        "text_column_name = 'text'\n",
        "\n",
        "# Function to count punctuation marks in a text\n",
        "def count_punctuation_marks(text):\n",
        "    # Define a regular expression to match punctuation marks\n",
        "    punctuation_pattern = re.compile(r'[!\"#$%&\\'()*+,-./:;<=>?@[\\\\]^_`{|}~]')\n",
        "\n",
        "    # Count the number of matches using the regular expression\n",
        "    punctuation_count = len(re.findall(punctuation_pattern, str(text)))\n",
        "\n",
        "    return punctuation_count\n",
        "\n",
        "# Apply the function to the text column\n",
        "df['punctuation_count'] = df[text_column_name].apply(count_punctuation_marks)\n",
        "\n",
        "# Display the DataFrame with punctuation counts\n",
        "print(df[['text', 'punctuation_count']])\n"
      ],
      "metadata": {
        "colab": {
          "base_uri": "https://localhost:8080/"
        },
        "id": "2c-kyrBqlOaE",
        "outputId": "fce2b8ee-6d98-4acc-bbfc-c86b79aa7e91"
      },
      "execution_count": null,
      "outputs": [
        {
          "output_type": "stream",
          "name": "stdout",
          "text": [
            "                                                   text  punctuation_count\n",
            "0     Some of the best food I've ever had! We were r...                  0\n",
            "1     Loved it the food was great. Can’t wait to go ...                  0\n",
            "2     Amazing food and staff was great! Can’t wait t...                  0\n",
            "3     This place is the sleeper hit of Wise County. ...                  0\n",
            "4                                    Food was wonderful                  0\n",
            "...                                                 ...                ...\n",
            "9066                               Best burgers around!                  0\n",
            "9067                                            Awesome                  0\n",
            "9068       Great place to eat friendly and great people                  0\n",
            "9069                                   Amazing Burgers!                  0\n",
            "9070                                   Best fries EVER.                  0\n",
            "\n",
            "[9071 rows x 2 columns]\n"
          ]
        }
      ]
    },
    {
      "cell_type": "code",
      "source": [
        "import pandas as pd\n",
        "\n",
        "df = pd.read_excel('Punctuation.xlsx')\n",
        "\n",
        "text_column_name = 'text'\n",
        "\n",
        "# Define a regular expression to match punctuation marks\n",
        "punctuation_pattern = r'[!\"#$%&\\'()*+,-./:;<=>?@[\\\\]^_`{|}~]'\n",
        "\n",
        "# Apply the count of punctuation marks to the text column\n",
        "df['punctuation_count'] = df[text_column_name].str.count(punctuation_pattern)\n",
        "\n",
        "# Display the DataFrame with punctuation counts\n",
        "print(df[['text', 'punctuation_count']])\n"
      ],
      "metadata": {
        "colab": {
          "base_uri": "https://localhost:8080/"
        },
        "id": "-UE2VgeP5Jru",
        "outputId": "e2fe75b4-c919-48c1-8ca6-c96cb2de55f0"
      },
      "execution_count": null,
      "outputs": [
        {
          "output_type": "stream",
          "name": "stdout",
          "text": [
            "                                                   text  punctuation_count\n",
            "0     Some of the best food I've ever had! We were r...                  0\n",
            "1     Loved it the food was great. Can’t wait to go ...                  0\n",
            "2     Amazing food and staff was great! Can’t wait t...                  0\n",
            "3     This place is the sleeper hit of Wise County. ...                  0\n",
            "4                                    Food was wonderful                  0\n",
            "...                                                 ...                ...\n",
            "9066                               Best burgers around!                  0\n",
            "9067                                            Awesome                  0\n",
            "9068       Great place to eat friendly and great people                  0\n",
            "9069                                   Amazing Burgers!                  0\n",
            "9070                                   Best fries EVER.                  0\n",
            "\n",
            "[9071 rows x 2 columns]\n"
          ]
        }
      ]
    },
    {
      "cell_type": "code",
      "source": [
        "# Display the entire DataFrame\n",
        "pd.set_option('display.max_columns', None)\n",
        "pd.set_option('display.expand_frame_repr', False)\n",
        "print(df)\n"
      ],
      "metadata": {
        "colab": {
          "base_uri": "https://localhost:8080/"
        },
        "id": "gxHywlBL5nuA",
        "outputId": "05735a73-7068-41cb-fe9f-836bd483e963"
      },
      "execution_count": null,
      "outputs": [
        {
          "output_type": "stream",
          "name": "stdout",
          "text": [
            "                                                   text         textblob  imagesCount  isAdvertisement  isLocalGuide  likesCount                name           publishedAtDate                              reviewID   ImageCount with review             reviewerID   reviewerNumberOfReviews  reviewsCount  sentiments_match             BERT  word_count  Unnamed: 16  Unnamed: 17 Unnamed: 18  Unnamed: 19                              duplicate_word_counts  punctuation_count\n",
            "0     Some of the best food I've ever had! We were r...  Strong Positive          698            False         False           0       Hannah Thomas  2023-06-15T00:28:24.174Z  ChdDSUhNMG9nS0VJQ0FnSUR4eS1DY2lRRRAB                        1  100929819046913417968                         2           969          0.825000  Strong Positive          18          NaN          NaN         NaN          NaN                                          {'we': 1}                  0\n",
            "1     Loved it the food was great. Can’t wait to go ...         Positive          698            False         False           0   Kristi B.J. Trump  2023-06-12T03:10:13.196Z  ChdDSUhNMG9nS0VJQ0FnSUR4LVpDb3hBRRAB                        0  102165036990749226352                        22           969          0.500000         Positive          11          NaN          NaN         NaN          NaN                                           {'.': 1}                  0\n",
            "2     Amazing food and staff was great! Can’t wait t...         Positive          698            False          True           0  B. J. Kristi Trump  2023-06-11T20:07:43.266Z  ChdDSUhNMG9nS0VJQ0FnSUR4LVkyTzFBRRAB                        0  106315153446389208407                       117           969          0.533333         Positive          11          NaN          NaN         NaN          NaN                                                 {}                  0\n",
            "3     This place is the sleeper hit of Wise County. ...         Positive          698            False         False           0          Meg Wilson  2023-06-06T12:07:00.127Z   ChZDSUhNMG9nS0VJQ0FnSUR4bU1INVZBEAE                        0  105443865951658816874                        13           969          0.302778         Positive          57          NaN          NaN         NaN          NaN  {'is': 1, 'the': 2, 'of': 1, '.': 3, 'a': 1, '...                  0\n",
            "4                                    Food was wonderful  Strong Positive          698            False         False           0         Angela webb  2023-06-03T02:21:13.763Z  ChdDSUhNMG9nS0VJQ0FnSUR4ak5ybjZRRRAB                        0  107828879031878403212                        63           969          1.000000  Strong Positive           3          NaN          NaN         NaN          NaN                                                 {}                  0\n",
            "...                                                 ...              ...          ...              ...           ...         ...                 ...                       ...                                   ...                      ...                    ...                       ...           ...               ...              ...         ...          ...          ...         ...          ...                                                ...                ...\n",
            "9066                               Best burgers around!  Strong Positive           28            False          True           0      Mike Harrelson  2017-07-31T11:42:52.538Z   ChZDSUhNMG9nS0VJQ0FnSUNnMTRxUUtBEAE                        0  117453299046381276963                       692            84          1.000000  Strong Positive           3          NaN          NaN         NaN          NaN                                                 {}                  0\n",
            "9067                                            Awesome  Strong Positive           28            False         False           0        Chris Kivett  2017-07-26T22:33:59.138Z  ChdDSUhNMG9nS0VJQ0FnSURRMXV6MmtRRRAB                        0  102903534660028012120                         1            84          1.000000  Strong Positive           1          NaN          NaN         NaN          NaN                                                 {}                  0\n",
            "9068       Great place to eat friendly and great people         Positive           28            False         False           1      Donnie Wallace  2017-02-13T13:00:28.365Z   ChZDSUhNMG9nS0VJQ0FnSURnOXBLZVpBEAE                        0  106530470844380680726                         3            84          0.658333         Positive           8          NaN          NaN         NaN          NaN                                       {'great': 1}                  0\n",
            "9069                                   Amazing Burgers!  Strong Positive           28            False          True           0       Atiq Chaudhry  2016-02-19T18:49:17.864Z  ChdDSUhNMG9nS0VJQ0FnSUNBbTlyOGpRRRAB                        0  111774394639812729160                         5            84          0.750000  Strong Positive           2          NaN          NaN         NaN          NaN                                                 {}                  0\n",
            "9070                                   Best fries EVER.  Strong Positive           28            False         False           0        Richard Zyss  2011-02-16T00:01:20.657Z  ChdDSUhNMG9nS0VJQ0FnSUNndkpqdHpBRRAB                        0  104006755210025940947                        26            84          1.000000  Strong Positive           3          NaN          NaN         NaN          NaN                                                 {}                  0\n",
            "\n",
            "[9071 rows x 22 columns]\n"
          ]
        }
      ]
    },
    {
      "cell_type": "code",
      "source": [
        "import pandas as pd\n",
        "\n",
        "df = pd.read_excel('Punctuation.xlsx')\n",
        "\n",
        "text_column_name = 'text'\n",
        "\n",
        "# Define a list of punctuation marks\n",
        "punctuation_marks = ['!', '\"', '#', '$', '%', '&', \"'\", '(', ')', '*',\n",
        "                      '+', ',', '-', '.', '/', ':', ';', '<', '=', '>',\n",
        "                      '?', '@', '[', '\\\\', ']', '^', '_', '`', '{', '|',\n",
        "                      '}', '~']\n",
        "\n",
        "# Iterate through each punctuation mark and create a new column for each\n",
        "for mark in punctuation_marks:\n",
        "    df[f'{mark}_count'] = df[text_column_name].str.count(re.escape(mark))\n",
        "\n",
        "# Display the DataFrame with punctuation counts\n",
        "print(df)\n"
      ],
      "metadata": {
        "colab": {
          "base_uri": "https://localhost:8080/"
        },
        "id": "GuxziWRb59wM",
        "outputId": "42c8c0bd-ff14-4eb7-a419-bc2619ea4a06"
      },
      "execution_count": null,
      "outputs": [
        {
          "output_type": "stream",
          "name": "stdout",
          "text": [
            "                                                   text         textblob  imagesCount  isAdvertisement  isLocalGuide  likesCount                name           publishedAtDate                              reviewID   ImageCount with review             reviewerID   reviewerNumberOfReviews  reviewsCount  sentiments_match             BERT  word_count  Unnamed: 16  Unnamed: 17 Unnamed: 18  Unnamed: 19                              duplicate_word_counts  punctuation_count  !_count  \"_count  #_count  $_count  %_count  &_count  '_count  (_count  )_count  *_count  +_count  ,_count  -_count  ._count  /_count  :_count  ;_count  <_count  =_count  >_count  ?_count  @_count  [_count  \\_count  ]_count  ^_count  __count  `_count  {_count  |_count  }_count  ~_count\n",
            "0     Some of the best food I've ever had! We were r...  Strong Positive          698            False         False           0       Hannah Thomas  2023-06-15T00:28:24.174Z  ChdDSUhNMG9nS0VJQ0FnSUR4eS1DY2lRRRAB                        1  100929819046913417968                         2           969          0.825000  Strong Positive          18          NaN          NaN         NaN          NaN                                          {'we': 1}                  0        1        0        0        0        0        0        1        0        0        0        0        0        0        1        0        0        0        0        0        0        0        0        0        0        0        0        0        0        0        0        0        0\n",
            "1     Loved it the food was great. Can’t wait to go ...         Positive          698            False         False           0   Kristi B.J. Trump  2023-06-12T03:10:13.196Z  ChdDSUhNMG9nS0VJQ0FnSUR4LVpDb3hBRRAB                        0  102165036990749226352                        22           969          0.500000         Positive          11          NaN          NaN         NaN          NaN                                           {'.': 1}                  0        0        0        0        0        0        0        0        0        0        0        0        0        0        2        0        0        0        0        0        0        0        0        0        0        0        0        0        0        0        0        0        0\n",
            "2     Amazing food and staff was great! Can’t wait t...         Positive          698            False          True           0  B. J. Kristi Trump  2023-06-11T20:07:43.266Z  ChdDSUhNMG9nS0VJQ0FnSUR4LVkyTzFBRRAB                        0  106315153446389208407                       117           969          0.533333         Positive          11          NaN          NaN         NaN          NaN                                                 {}                  0        1        0        0        0        0        0        0        0        0        0        0        0        0        2        0        0        0        0        0        0        0        0        0        0        0        0        0        0        0        0        0        0\n",
            "3     This place is the sleeper hit of Wise County. ...         Positive          698            False         False           0          Meg Wilson  2023-06-06T12:07:00.127Z   ChZDSUhNMG9nS0VJQ0FnSUR4bU1INVZBEAE                        0  105443865951658816874                        13           969          0.302778         Positive          57          NaN          NaN         NaN          NaN  {'is': 1, 'the': 2, 'of': 1, '.': 3, 'a': 1, '...                  0        1        0        0        0        0        0        2        0        0        0        0        2        0        4        0        0        0        0        0        0        0        0        0        0        0        0        0        0        0        0        0        0\n",
            "4                                    Food was wonderful  Strong Positive          698            False         False           0         Angela webb  2023-06-03T02:21:13.763Z  ChdDSUhNMG9nS0VJQ0FnSUR4ak5ybjZRRRAB                        0  107828879031878403212                        63           969          1.000000  Strong Positive           3          NaN          NaN         NaN          NaN                                                 {}                  0        0        0        0        0        0        0        0        0        0        0        0        0        0        0        0        0        0        0        0        0        0        0        0        0        0        0        0        0        0        0        0        0\n",
            "...                                                 ...              ...          ...              ...           ...         ...                 ...                       ...                                   ...                      ...                    ...                       ...           ...               ...              ...         ...          ...          ...         ...          ...                                                ...                ...      ...      ...      ...      ...      ...      ...      ...      ...      ...      ...      ...      ...      ...      ...      ...      ...      ...      ...      ...      ...      ...      ...      ...      ...      ...      ...      ...      ...      ...      ...      ...      ...\n",
            "9066                               Best burgers around!  Strong Positive           28            False          True           0      Mike Harrelson  2017-07-31T11:42:52.538Z   ChZDSUhNMG9nS0VJQ0FnSUNnMTRxUUtBEAE                        0  117453299046381276963                       692            84          1.000000  Strong Positive           3          NaN          NaN         NaN          NaN                                                 {}                  0        1        0        0        0        0        0        0        0        0        0        0        0        0        0        0        0        0        0        0        0        0        0        0        0        0        0        0        0        0        0        0        0\n",
            "9067                                            Awesome  Strong Positive           28            False         False           0        Chris Kivett  2017-07-26T22:33:59.138Z  ChdDSUhNMG9nS0VJQ0FnSURRMXV6MmtRRRAB                        0  102903534660028012120                         1            84          1.000000  Strong Positive           1          NaN          NaN         NaN          NaN                                                 {}                  0        0        0        0        0        0        0        0        0        0        0        0        0        0        0        0        0        0        0        0        0        0        0        0        0        0        0        0        0        0        0        0        0\n",
            "9068       Great place to eat friendly and great people         Positive           28            False         False           1      Donnie Wallace  2017-02-13T13:00:28.365Z   ChZDSUhNMG9nS0VJQ0FnSURnOXBLZVpBEAE                        0  106530470844380680726                         3            84          0.658333         Positive           8          NaN          NaN         NaN          NaN                                       {'great': 1}                  0        0        0        0        0        0        0        0        0        0        0        0        0        0        0        0        0        0        0        0        0        0        0        0        0        0        0        0        0        0        0        0        0\n",
            "9069                                   Amazing Burgers!  Strong Positive           28            False          True           0       Atiq Chaudhry  2016-02-19T18:49:17.864Z  ChdDSUhNMG9nS0VJQ0FnSUNBbTlyOGpRRRAB                        0  111774394639812729160                         5            84          0.750000  Strong Positive           2          NaN          NaN         NaN          NaN                                                 {}                  0        1        0        0        0        0        0        0        0        0        0        0        0        0        0        0        0        0        0        0        0        0        0        0        0        0        0        0        0        0        0        0        0\n",
            "9070                                   Best fries EVER.  Strong Positive           28            False         False           0        Richard Zyss  2011-02-16T00:01:20.657Z  ChdDSUhNMG9nS0VJQ0FnSUNndkpqdHpBRRAB                        0  104006755210025940947                        26            84          1.000000  Strong Positive           3          NaN          NaN         NaN          NaN                                                 {}                  0        0        0        0        0        0        0        0        0        0        0        0        0        0        1        0        0        0        0        0        0        0        0        0        0        0        0        0        0        0        0        0        0\n",
            "\n",
            "[9071 rows x 54 columns]\n"
          ]
        }
      ]
    },
    {
      "cell_type": "code",
      "source": [
        "# Save the DataFrame to a new Excel file\n",
        "output_file_path = 'PunctuationLast.xlsx'\n",
        "df.to_excel(output_file_path, index=False)\n",
        "\n",
        "print(f\"Result saved to: {output_file_path}\")"
      ],
      "metadata": {
        "colab": {
          "base_uri": "https://localhost:8080/"
        },
        "id": "vRZ1Upi66vab",
        "outputId": "5014e748-be9e-4e95-bd7d-29577f1f3932"
      },
      "execution_count": null,
      "outputs": [
        {
          "output_type": "stream",
          "name": "stdout",
          "text": [
            "Result saved to: PunctuationLast.xlsx\n"
          ]
        }
      ]
    },
    {
      "cell_type": "code",
      "source": [
        "import pandas as pd\n",
        "import re\n",
        "\n",
        "df = pd.read_excel('Punctuation.xlsx')\n",
        "\n",
        "text_column_name = 'text'\n",
        "\n",
        "# Define a regular expression to match punctuation marks\n",
        "punctuation_pattern = r'[!\"#$%&\\'()*+,-./:;<=>?@[\\\\]^_`{|}~]'\n",
        "\n",
        "# Apply the count of punctuation marks to the text column\n",
        "df['punctuation_count'] = df[text_column_name].apply(lambda x: len(re.findall(punctuation_pattern, str(x))))\n",
        "\n",
        "# Display the DataFrame with punctuation counts\n",
        "print(df[['text', 'punctuation_count']])\n"
      ],
      "metadata": {
        "colab": {
          "base_uri": "https://localhost:8080/"
        },
        "id": "pJ0s9P7W6eQR",
        "outputId": "c1a42f9d-a431-4d08-d31a-5b1eb631d9e0"
      },
      "execution_count": null,
      "outputs": [
        {
          "output_type": "stream",
          "name": "stdout",
          "text": [
            "                                                   text  punctuation_count\n",
            "0     Some of the best food I've ever had! We were r...                  0\n",
            "1     Loved it the food was great. Can’t wait to go ...                  0\n",
            "2     Amazing food and staff was great! Can’t wait t...                  0\n",
            "3     This place is the sleeper hit of Wise County. ...                  0\n",
            "4                                    Food was wonderful                  0\n",
            "...                                                 ...                ...\n",
            "9066                               Best burgers around!                  0\n",
            "9067                                            Awesome                  0\n",
            "9068       Great place to eat friendly and great people                  0\n",
            "9069                                   Amazing Burgers!                  0\n",
            "9070                                   Best fries EVER.                  0\n",
            "\n",
            "[9071 rows x 2 columns]\n"
          ]
        }
      ]
    },
    {
      "cell_type": "code",
      "source": [],
      "metadata": {
        "colab": {
          "base_uri": "https://localhost:8080/"
        },
        "id": "Td8bHiTA4YQf",
        "outputId": "10d9ca21-47e8-48d3-e18c-d08ac58268d4"
      },
      "execution_count": null,
      "outputs": [
        {
          "output_type": "stream",
          "name": "stdout",
          "text": [
            "Result saved to: Punctuation.xlsx\n"
          ]
        }
      ]
    },
    {
      "cell_type": "code",
      "source": [
        "!pip install textblob\n",
        "\n",
        "from textblob import TextBlob\n",
        "import pandas as pd\n",
        "\n",
        "# Load  dataset\n",
        "df = pd.read_excel('PunctuationLast.xlsx')\n",
        "\n",
        "text_column_name = 'text'\n",
        "\n",
        "# Function to detect generic statements based on sentiment\n",
        "def is_generic_statement(text):\n",
        "    blob = TextBlob(str(text))\n",
        "\n",
        "    # Threshold for determining if a statement is generic\n",
        "    sentiment_threshold = 0.1\n",
        "\n",
        "    # Check if sentiment is close to neutral\n",
        "    return abs(blob.sentiment.polarity) < sentiment_threshold\n",
        "\n",
        "# Apply the function to the text column\n",
        "df['is_generic'] = df[text_column_name].apply(is_generic_statement)\n",
        "\n",
        "# Display the DataFrame with the results\n",
        "print(df[['text', 'is_generic']])\n"
      ],
      "metadata": {
        "colab": {
          "base_uri": "https://localhost:8080/"
        },
        "id": "KARbBeuTH3qn",
        "outputId": "170a02d4-2c93-4e44-e4f0-5d7c77cf140b"
      },
      "execution_count": null,
      "outputs": [
        {
          "output_type": "stream",
          "name": "stdout",
          "text": [
            "Requirement already satisfied: textblob in /usr/local/lib/python3.10/dist-packages (0.17.1)\n",
            "Requirement already satisfied: nltk>=3.1 in /usr/local/lib/python3.10/dist-packages (from textblob) (3.8.1)\n",
            "Requirement already satisfied: click in /usr/local/lib/python3.10/dist-packages (from nltk>=3.1->textblob) (8.1.7)\n",
            "Requirement already satisfied: joblib in /usr/local/lib/python3.10/dist-packages (from nltk>=3.1->textblob) (1.3.2)\n",
            "Requirement already satisfied: regex>=2021.8.3 in /usr/local/lib/python3.10/dist-packages (from nltk>=3.1->textblob) (2023.6.3)\n",
            "Requirement already satisfied: tqdm in /usr/local/lib/python3.10/dist-packages (from nltk>=3.1->textblob) (4.66.1)\n",
            "                                                      text  is_generic\n",
            "0        Some of the best food I've ever had! We were r...       False\n",
            "1        Loved it the food was great. Can’t wait to go ...       False\n",
            "2        Amazing food and staff was great! Can’t wait t...       False\n",
            "3        This place is the sleeper hit of Wise County. ...       False\n",
            "4                                       Food was wonderful       False\n",
            "...                                                    ...         ...\n",
            "1048570                                                NaN        True\n",
            "1048571                                                NaN        True\n",
            "1048572                                                NaN        True\n",
            "1048573                                                NaN        True\n",
            "1048574                                                NaN        True\n",
            "\n",
            "[1048575 rows x 2 columns]\n"
          ]
        }
      ]
    },
    {
      "cell_type": "code",
      "source": [
        "# Save the DataFrame to a new Excel file\n",
        "output_file_path = 'output_with_name_occurrences.xlsx'\n",
        "df.to_excel(output_file_path, index=False)\n",
        "\n",
        "print(f\"Result saved to: {output_file_path}\")"
      ],
      "metadata": {
        "id": "kxJ0jyxyNSAD"
      },
      "execution_count": null,
      "outputs": []
    }
  ],
  "metadata": {
    "colab": {
      "provenance": [],
      "authorship_tag": "ABX9TyNm6+gEgJgEbo1yKxnlTZea",
      "include_colab_link": true
    },
    "kernelspec": {
      "display_name": "Python 3",
      "name": "python3"
    },
    "language_info": {
      "name": "python"
    }
  },
  "nbformat": 4,
  "nbformat_minor": 0
}
